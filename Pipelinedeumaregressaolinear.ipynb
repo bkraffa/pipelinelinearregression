{
 "cells": [
  {
   "cell_type": "markdown",
   "metadata": {},
   "source": [
    "Vamos carregar o dataset de características de imóveis vendidos disponíveis no sklearn e armazenar as variáveis explicativas e target"
   ]
  },
  {
   "cell_type": "code",
   "execution_count": 33,
   "metadata": {},
   "outputs": [],
   "source": [
    "from sklearn.datasets import fetch_openml\n",
    "X, y = fetch_openml(name='house_prices', as_frame = True, return_X_y=True)"
   ]
  },
  {
   "cell_type": "code",
   "execution_count": 34,
   "metadata": {},
   "outputs": [
    {
     "data": {
      "text/html": [
       "<div>\n",
       "<style scoped>\n",
       "    .dataframe tbody tr th:only-of-type {\n",
       "        vertical-align: middle;\n",
       "    }\n",
       "\n",
       "    .dataframe tbody tr th {\n",
       "        vertical-align: top;\n",
       "    }\n",
       "\n",
       "    .dataframe thead th {\n",
       "        text-align: right;\n",
       "    }\n",
       "</style>\n",
       "<table border=\"1\" class=\"dataframe\">\n",
       "  <thead>\n",
       "    <tr style=\"text-align: right;\">\n",
       "      <th></th>\n",
       "      <th>Id</th>\n",
       "      <th>MSSubClass</th>\n",
       "      <th>MSZoning</th>\n",
       "      <th>LotFrontage</th>\n",
       "      <th>LotArea</th>\n",
       "      <th>Street</th>\n",
       "      <th>Alley</th>\n",
       "      <th>LotShape</th>\n",
       "      <th>LandContour</th>\n",
       "      <th>Utilities</th>\n",
       "      <th>...</th>\n",
       "      <th>ScreenPorch</th>\n",
       "      <th>PoolArea</th>\n",
       "      <th>PoolQC</th>\n",
       "      <th>Fence</th>\n",
       "      <th>MiscFeature</th>\n",
       "      <th>MiscVal</th>\n",
       "      <th>MoSold</th>\n",
       "      <th>YrSold</th>\n",
       "      <th>SaleType</th>\n",
       "      <th>SaleCondition</th>\n",
       "    </tr>\n",
       "  </thead>\n",
       "  <tbody>\n",
       "    <tr>\n",
       "      <th>0</th>\n",
       "      <td>1.0</td>\n",
       "      <td>60.0</td>\n",
       "      <td>RL</td>\n",
       "      <td>65.0</td>\n",
       "      <td>8450.0</td>\n",
       "      <td>Pave</td>\n",
       "      <td>None</td>\n",
       "      <td>Reg</td>\n",
       "      <td>Lvl</td>\n",
       "      <td>AllPub</td>\n",
       "      <td>...</td>\n",
       "      <td>0.0</td>\n",
       "      <td>0.0</td>\n",
       "      <td>None</td>\n",
       "      <td>None</td>\n",
       "      <td>None</td>\n",
       "      <td>0.0</td>\n",
       "      <td>2.0</td>\n",
       "      <td>2008.0</td>\n",
       "      <td>WD</td>\n",
       "      <td>Normal</td>\n",
       "    </tr>\n",
       "    <tr>\n",
       "      <th>1</th>\n",
       "      <td>2.0</td>\n",
       "      <td>20.0</td>\n",
       "      <td>RL</td>\n",
       "      <td>80.0</td>\n",
       "      <td>9600.0</td>\n",
       "      <td>Pave</td>\n",
       "      <td>None</td>\n",
       "      <td>Reg</td>\n",
       "      <td>Lvl</td>\n",
       "      <td>AllPub</td>\n",
       "      <td>...</td>\n",
       "      <td>0.0</td>\n",
       "      <td>0.0</td>\n",
       "      <td>None</td>\n",
       "      <td>None</td>\n",
       "      <td>None</td>\n",
       "      <td>0.0</td>\n",
       "      <td>5.0</td>\n",
       "      <td>2007.0</td>\n",
       "      <td>WD</td>\n",
       "      <td>Normal</td>\n",
       "    </tr>\n",
       "    <tr>\n",
       "      <th>2</th>\n",
       "      <td>3.0</td>\n",
       "      <td>60.0</td>\n",
       "      <td>RL</td>\n",
       "      <td>68.0</td>\n",
       "      <td>11250.0</td>\n",
       "      <td>Pave</td>\n",
       "      <td>None</td>\n",
       "      <td>IR1</td>\n",
       "      <td>Lvl</td>\n",
       "      <td>AllPub</td>\n",
       "      <td>...</td>\n",
       "      <td>0.0</td>\n",
       "      <td>0.0</td>\n",
       "      <td>None</td>\n",
       "      <td>None</td>\n",
       "      <td>None</td>\n",
       "      <td>0.0</td>\n",
       "      <td>9.0</td>\n",
       "      <td>2008.0</td>\n",
       "      <td>WD</td>\n",
       "      <td>Normal</td>\n",
       "    </tr>\n",
       "    <tr>\n",
       "      <th>3</th>\n",
       "      <td>4.0</td>\n",
       "      <td>70.0</td>\n",
       "      <td>RL</td>\n",
       "      <td>60.0</td>\n",
       "      <td>9550.0</td>\n",
       "      <td>Pave</td>\n",
       "      <td>None</td>\n",
       "      <td>IR1</td>\n",
       "      <td>Lvl</td>\n",
       "      <td>AllPub</td>\n",
       "      <td>...</td>\n",
       "      <td>0.0</td>\n",
       "      <td>0.0</td>\n",
       "      <td>None</td>\n",
       "      <td>None</td>\n",
       "      <td>None</td>\n",
       "      <td>0.0</td>\n",
       "      <td>2.0</td>\n",
       "      <td>2006.0</td>\n",
       "      <td>WD</td>\n",
       "      <td>Abnorml</td>\n",
       "    </tr>\n",
       "    <tr>\n",
       "      <th>4</th>\n",
       "      <td>5.0</td>\n",
       "      <td>60.0</td>\n",
       "      <td>RL</td>\n",
       "      <td>84.0</td>\n",
       "      <td>14260.0</td>\n",
       "      <td>Pave</td>\n",
       "      <td>None</td>\n",
       "      <td>IR1</td>\n",
       "      <td>Lvl</td>\n",
       "      <td>AllPub</td>\n",
       "      <td>...</td>\n",
       "      <td>0.0</td>\n",
       "      <td>0.0</td>\n",
       "      <td>None</td>\n",
       "      <td>None</td>\n",
       "      <td>None</td>\n",
       "      <td>0.0</td>\n",
       "      <td>12.0</td>\n",
       "      <td>2008.0</td>\n",
       "      <td>WD</td>\n",
       "      <td>Normal</td>\n",
       "    </tr>\n",
       "    <tr>\n",
       "      <th>...</th>\n",
       "      <td>...</td>\n",
       "      <td>...</td>\n",
       "      <td>...</td>\n",
       "      <td>...</td>\n",
       "      <td>...</td>\n",
       "      <td>...</td>\n",
       "      <td>...</td>\n",
       "      <td>...</td>\n",
       "      <td>...</td>\n",
       "      <td>...</td>\n",
       "      <td>...</td>\n",
       "      <td>...</td>\n",
       "      <td>...</td>\n",
       "      <td>...</td>\n",
       "      <td>...</td>\n",
       "      <td>...</td>\n",
       "      <td>...</td>\n",
       "      <td>...</td>\n",
       "      <td>...</td>\n",
       "      <td>...</td>\n",
       "      <td>...</td>\n",
       "    </tr>\n",
       "    <tr>\n",
       "      <th>1455</th>\n",
       "      <td>1456.0</td>\n",
       "      <td>60.0</td>\n",
       "      <td>RL</td>\n",
       "      <td>62.0</td>\n",
       "      <td>7917.0</td>\n",
       "      <td>Pave</td>\n",
       "      <td>None</td>\n",
       "      <td>Reg</td>\n",
       "      <td>Lvl</td>\n",
       "      <td>AllPub</td>\n",
       "      <td>...</td>\n",
       "      <td>0.0</td>\n",
       "      <td>0.0</td>\n",
       "      <td>None</td>\n",
       "      <td>None</td>\n",
       "      <td>None</td>\n",
       "      <td>0.0</td>\n",
       "      <td>8.0</td>\n",
       "      <td>2007.0</td>\n",
       "      <td>WD</td>\n",
       "      <td>Normal</td>\n",
       "    </tr>\n",
       "    <tr>\n",
       "      <th>1456</th>\n",
       "      <td>1457.0</td>\n",
       "      <td>20.0</td>\n",
       "      <td>RL</td>\n",
       "      <td>85.0</td>\n",
       "      <td>13175.0</td>\n",
       "      <td>Pave</td>\n",
       "      <td>None</td>\n",
       "      <td>Reg</td>\n",
       "      <td>Lvl</td>\n",
       "      <td>AllPub</td>\n",
       "      <td>...</td>\n",
       "      <td>0.0</td>\n",
       "      <td>0.0</td>\n",
       "      <td>None</td>\n",
       "      <td>MnPrv</td>\n",
       "      <td>None</td>\n",
       "      <td>0.0</td>\n",
       "      <td>2.0</td>\n",
       "      <td>2010.0</td>\n",
       "      <td>WD</td>\n",
       "      <td>Normal</td>\n",
       "    </tr>\n",
       "    <tr>\n",
       "      <th>1457</th>\n",
       "      <td>1458.0</td>\n",
       "      <td>70.0</td>\n",
       "      <td>RL</td>\n",
       "      <td>66.0</td>\n",
       "      <td>9042.0</td>\n",
       "      <td>Pave</td>\n",
       "      <td>None</td>\n",
       "      <td>Reg</td>\n",
       "      <td>Lvl</td>\n",
       "      <td>AllPub</td>\n",
       "      <td>...</td>\n",
       "      <td>0.0</td>\n",
       "      <td>0.0</td>\n",
       "      <td>None</td>\n",
       "      <td>GdPrv</td>\n",
       "      <td>Shed</td>\n",
       "      <td>2500.0</td>\n",
       "      <td>5.0</td>\n",
       "      <td>2010.0</td>\n",
       "      <td>WD</td>\n",
       "      <td>Normal</td>\n",
       "    </tr>\n",
       "    <tr>\n",
       "      <th>1458</th>\n",
       "      <td>1459.0</td>\n",
       "      <td>20.0</td>\n",
       "      <td>RL</td>\n",
       "      <td>68.0</td>\n",
       "      <td>9717.0</td>\n",
       "      <td>Pave</td>\n",
       "      <td>None</td>\n",
       "      <td>Reg</td>\n",
       "      <td>Lvl</td>\n",
       "      <td>AllPub</td>\n",
       "      <td>...</td>\n",
       "      <td>0.0</td>\n",
       "      <td>0.0</td>\n",
       "      <td>None</td>\n",
       "      <td>None</td>\n",
       "      <td>None</td>\n",
       "      <td>0.0</td>\n",
       "      <td>4.0</td>\n",
       "      <td>2010.0</td>\n",
       "      <td>WD</td>\n",
       "      <td>Normal</td>\n",
       "    </tr>\n",
       "    <tr>\n",
       "      <th>1459</th>\n",
       "      <td>1460.0</td>\n",
       "      <td>20.0</td>\n",
       "      <td>RL</td>\n",
       "      <td>75.0</td>\n",
       "      <td>9937.0</td>\n",
       "      <td>Pave</td>\n",
       "      <td>None</td>\n",
       "      <td>Reg</td>\n",
       "      <td>Lvl</td>\n",
       "      <td>AllPub</td>\n",
       "      <td>...</td>\n",
       "      <td>0.0</td>\n",
       "      <td>0.0</td>\n",
       "      <td>None</td>\n",
       "      <td>None</td>\n",
       "      <td>None</td>\n",
       "      <td>0.0</td>\n",
       "      <td>6.0</td>\n",
       "      <td>2008.0</td>\n",
       "      <td>WD</td>\n",
       "      <td>Normal</td>\n",
       "    </tr>\n",
       "  </tbody>\n",
       "</table>\n",
       "<p>1460 rows × 80 columns</p>\n",
       "</div>"
      ],
      "text/plain": [
       "          Id  MSSubClass MSZoning  LotFrontage  LotArea Street Alley LotShape  \\\n",
       "0        1.0        60.0       RL         65.0   8450.0   Pave  None      Reg   \n",
       "1        2.0        20.0       RL         80.0   9600.0   Pave  None      Reg   \n",
       "2        3.0        60.0       RL         68.0  11250.0   Pave  None      IR1   \n",
       "3        4.0        70.0       RL         60.0   9550.0   Pave  None      IR1   \n",
       "4        5.0        60.0       RL         84.0  14260.0   Pave  None      IR1   \n",
       "...      ...         ...      ...          ...      ...    ...   ...      ...   \n",
       "1455  1456.0        60.0       RL         62.0   7917.0   Pave  None      Reg   \n",
       "1456  1457.0        20.0       RL         85.0  13175.0   Pave  None      Reg   \n",
       "1457  1458.0        70.0       RL         66.0   9042.0   Pave  None      Reg   \n",
       "1458  1459.0        20.0       RL         68.0   9717.0   Pave  None      Reg   \n",
       "1459  1460.0        20.0       RL         75.0   9937.0   Pave  None      Reg   \n",
       "\n",
       "     LandContour Utilities  ... ScreenPorch PoolArea PoolQC  Fence  \\\n",
       "0            Lvl    AllPub  ...         0.0      0.0   None   None   \n",
       "1            Lvl    AllPub  ...         0.0      0.0   None   None   \n",
       "2            Lvl    AllPub  ...         0.0      0.0   None   None   \n",
       "3            Lvl    AllPub  ...         0.0      0.0   None   None   \n",
       "4            Lvl    AllPub  ...         0.0      0.0   None   None   \n",
       "...          ...       ...  ...         ...      ...    ...    ...   \n",
       "1455         Lvl    AllPub  ...         0.0      0.0   None   None   \n",
       "1456         Lvl    AllPub  ...         0.0      0.0   None  MnPrv   \n",
       "1457         Lvl    AllPub  ...         0.0      0.0   None  GdPrv   \n",
       "1458         Lvl    AllPub  ...         0.0      0.0   None   None   \n",
       "1459         Lvl    AllPub  ...         0.0      0.0   None   None   \n",
       "\n",
       "     MiscFeature MiscVal MoSold  YrSold  SaleType  SaleCondition  \n",
       "0           None     0.0    2.0  2008.0        WD         Normal  \n",
       "1           None     0.0    5.0  2007.0        WD         Normal  \n",
       "2           None     0.0    9.0  2008.0        WD         Normal  \n",
       "3           None     0.0    2.0  2006.0        WD        Abnorml  \n",
       "4           None     0.0   12.0  2008.0        WD         Normal  \n",
       "...          ...     ...    ...     ...       ...            ...  \n",
       "1455        None     0.0    8.0  2007.0        WD         Normal  \n",
       "1456        None     0.0    2.0  2010.0        WD         Normal  \n",
       "1457        Shed  2500.0    5.0  2010.0        WD         Normal  \n",
       "1458        None     0.0    4.0  2010.0        WD         Normal  \n",
       "1459        None     0.0    6.0  2008.0        WD         Normal  \n",
       "\n",
       "[1460 rows x 80 columns]"
      ]
     },
     "execution_count": 34,
     "metadata": {},
     "output_type": "execute_result"
    }
   ],
   "source": [
    "X"
   ]
  },
  {
   "cell_type": "code",
   "execution_count": 35,
   "metadata": {},
   "outputs": [
    {
     "data": {
      "text/plain": [
       "0       208500.0\n",
       "1       181500.0\n",
       "2       223500.0\n",
       "3       140000.0\n",
       "4       250000.0\n",
       "          ...   \n",
       "1455    175000.0\n",
       "1456    210000.0\n",
       "1457    266500.0\n",
       "1458    142125.0\n",
       "1459    147500.0\n",
       "Name: SalePrice, Length: 1460, dtype: float64"
      ]
     },
     "execution_count": 35,
     "metadata": {},
     "output_type": "execute_result"
    }
   ],
   "source": [
    "y"
   ]
  },
  {
   "cell_type": "markdown",
   "metadata": {},
   "source": [
    "Agora vamos carregar algumas colunas para incluir transformações e montar um pipeline de transformações para então aplicar uma regressão linear nelas"
   ]
  },
  {
   "cell_type": "code",
   "execution_count": 36,
   "metadata": {},
   "outputs": [],
   "source": [
    "Xtr = X.loc[:,['LotArea','PoolArea','OverallQual','FullBath', 'MSZoning']]"
   ]
  },
  {
   "cell_type": "markdown",
   "metadata": {},
   "source": [
    "Então, vamos criar uma classe com os métodos fit, transform e de inicialização. o método de inicialização terá como padrão o metodo de centralização como padrão, mas aceitará também o método de padronização."
   ]
  },
  {
   "cell_type": "code",
   "execution_count": 37,
   "metadata": {},
   "outputs": [],
   "source": [
    "from sklearn.base import BaseEstimator,TransformerMixin\n",
    "\n",
    "class ScaleTransformer(BaseEstimator,TransformerMixin):\n",
    "    def __init__(self, method='center'): \n",
    "        if method not in ('center','standardize'):\n",
    "            raise ValueError('metodo não é center ou standardize.')\n",
    "        self.method = method\n",
    "    \n",
    "    def fit(self, X , *args, **kwargs):\n",
    "        self.means_ = X.mean(axis=0)\n",
    "        if self.method == 'standardize':\n",
    "            self.stds_ = X.std(axis=0)\n",
    "        return self\n",
    "\n",
    "    def transform(self, X):\n",
    "        if self.method == 'standardize':\n",
    "            return_frame = (X - self.means_) / self.stds_\n",
    "        elif self.method == 'center':\n",
    "            return_frame = (X - self.means_)\n",
    "        return return_frame"
   ]
  },
  {
   "cell_type": "markdown",
   "metadata": {},
   "source": [
    "Agora vamos criar o pipeline com a classe ScaleTransformer que criamos acima e também interações polinomiais."
   ]
  },
  {
   "cell_type": "code",
   "execution_count": 38,
   "metadata": {},
   "outputs": [],
   "source": [
    "from sklearn.pipeline import Pipeline\n",
    "from sklearn.preprocessing import PolynomialFeatures\n",
    "\n",
    "pipe = Pipeline(steps=[\n",
    "    ('centralizador', ScaleTransformer(method='standardize')),\n",
    "    ('interacoes', PolynomialFeatures(interaction_only=True, include_bias= False))\n",
    "]\n",
    ")"
   ]
  },
  {
   "cell_type": "markdown",
   "metadata": {},
   "source": [
    "Por fim, aplicamos às colunas que desejamos (LotArea e OverallQual) o pipe que definimos na célula acima, também aplicamos um OneHotEncoding para a variável MSZoning e damos simplesmente um pass through (não aplicar nenhuma transformação) na variável PoolArea."
   ]
  },
  {
   "cell_type": "code",
   "execution_count": 39,
   "metadata": {},
   "outputs": [],
   "source": [
    "from sklearn.compose import ColumnTransformer\n",
    "from sklearn.preprocessing import OneHotEncoder\n",
    "from sklearn.pipeline import Pipeline\n",
    "\n",
    "pipeline1 = ColumnTransformer([\n",
    "    ('interacoes', pipe, ['LotArea','OverallQual']),\n",
    "    ('dummy_zoning', OneHotEncoder(drop='first'), ['MSZoning']),\n",
    "    ('pool','passthrough', ['PoolArea'])\n",
    "], \n",
    "remainder = 'drop'\n",
    ")"
   ]
  },
  {
   "cell_type": "code",
   "execution_count": 40,
   "metadata": {},
   "outputs": [],
   "source": [
    "from sklearn import set_config\n",
    "set_config(display = 'diagram')"
   ]
  },
  {
   "cell_type": "markdown",
   "metadata": {},
   "source": [
    "Representação visual do pipeline criado até agora:"
   ]
  },
  {
   "cell_type": "code",
   "execution_count": 41,
   "metadata": {},
   "outputs": [
    {
     "data": {
      "text/html": [
       "<style>div.sk-top-container {color: black;background-color: white;}div.sk-toggleable {background-color: white;}label.sk-toggleable__label {cursor: pointer;display: block;width: 100%;margin-bottom: 0;padding: 0.2em 0.3em;box-sizing: border-box;text-align: center;}div.sk-toggleable__content {max-height: 0;max-width: 0;overflow: hidden;text-align: left;background-color: #f0f8ff;}div.sk-toggleable__content pre {margin: 0.2em;color: black;border-radius: 0.25em;background-color: #f0f8ff;}input.sk-toggleable__control:checked~div.sk-toggleable__content {max-height: 200px;max-width: 100%;overflow: auto;}div.sk-estimator input.sk-toggleable__control:checked~label.sk-toggleable__label {background-color: #d4ebff;}div.sk-label input.sk-toggleable__control:checked~label.sk-toggleable__label {background-color: #d4ebff;}input.sk-hidden--visually {border: 0;clip: rect(1px 1px 1px 1px);clip: rect(1px, 1px, 1px, 1px);height: 1px;margin: -1px;overflow: hidden;padding: 0;position: absolute;width: 1px;}div.sk-estimator {font-family: monospace;background-color: #f0f8ff;margin: 0.25em 0.25em;border: 1px dotted black;border-radius: 0.25em;box-sizing: border-box;}div.sk-estimator:hover {background-color: #d4ebff;}div.sk-parallel-item::after {content: \"\";width: 100%;border-bottom: 1px solid gray;flex-grow: 1;}div.sk-label:hover label.sk-toggleable__label {background-color: #d4ebff;}div.sk-serial::before {content: \"\";position: absolute;border-left: 1px solid gray;box-sizing: border-box;top: 2em;bottom: 0;left: 50%;}div.sk-serial {display: flex;flex-direction: column;align-items: center;background-color: white;}div.sk-item {z-index: 1;}div.sk-parallel {display: flex;align-items: stretch;justify-content: center;background-color: white;}div.sk-parallel-item {display: flex;flex-direction: column;position: relative;background-color: white;}div.sk-parallel-item:first-child::after {align-self: flex-end;width: 50%;}div.sk-parallel-item:last-child::after {align-self: flex-start;width: 50%;}div.sk-parallel-item:only-child::after {width: 0;}div.sk-dashed-wrapped {border: 1px dashed gray;margin: 0.2em;box-sizing: border-box;padding-bottom: 0.1em;background-color: white;position: relative;}div.sk-label label {font-family: monospace;font-weight: bold;background-color: white;display: inline-block;line-height: 1.2em;}div.sk-label-container {position: relative;z-index: 2;text-align: center;}div.sk-container {display: inline-block;position: relative;}</style><div class=\"sk-top-container\"><div class=\"sk-container\"><div class=\"sk-item sk-dashed-wrapped\"><div class=\"sk-label-container\"><div class=\"sk-label sk-toggleable\"><input class=\"sk-toggleable__control sk-hidden--visually\" id=\"8278b528-2d75-46d3-ba8a-11e031cca171\" type=\"checkbox\" ><label class=\"sk-toggleable__label\" for=\"8278b528-2d75-46d3-ba8a-11e031cca171\">ColumnTransformer</label><div class=\"sk-toggleable__content\"><pre>ColumnTransformer(transformers=[('interacoes',\n",
       "                                 Pipeline(steps=[('centralizador',\n",
       "                                                  ScaleTransformer(method='standardize')),\n",
       "                                                 ('interacoes',\n",
       "                                                  PolynomialFeatures(include_bias=False,\n",
       "                                                                     interaction_only=True))]),\n",
       "                                 ['LotArea', 'OverallQual']),\n",
       "                                ('dummy_zoning', OneHotEncoder(drop='first'),\n",
       "                                 ['MSZoning']),\n",
       "                                ('pool', 'passthrough', ['PoolArea'])])</pre></div></div></div><div class=\"sk-parallel\"><div class=\"sk-parallel-item\"><div class=\"sk-item\"><div class=\"sk-label-container\"><div class=\"sk-label sk-toggleable\"><input class=\"sk-toggleable__control sk-hidden--visually\" id=\"9133aa9c-82e1-4b23-ae45-34727d98d90e\" type=\"checkbox\" ><label class=\"sk-toggleable__label\" for=\"9133aa9c-82e1-4b23-ae45-34727d98d90e\">interacoes</label><div class=\"sk-toggleable__content\"><pre>['LotArea', 'OverallQual']</pre></div></div></div><div class=\"sk-serial\"><div class=\"sk-item\"><div class=\"sk-serial\"><div class=\"sk-item\"><div class=\"sk-estimator sk-toggleable\"><input class=\"sk-toggleable__control sk-hidden--visually\" id=\"b8325103-e7aa-4d24-ba6e-7abf6de6ea67\" type=\"checkbox\" ><label class=\"sk-toggleable__label\" for=\"b8325103-e7aa-4d24-ba6e-7abf6de6ea67\">ScaleTransformer</label><div class=\"sk-toggleable__content\"><pre>ScaleTransformer(method='standardize')</pre></div></div></div><div class=\"sk-item\"><div class=\"sk-estimator sk-toggleable\"><input class=\"sk-toggleable__control sk-hidden--visually\" id=\"0f395975-4eb6-4fa3-af71-b9dbd3db12de\" type=\"checkbox\" ><label class=\"sk-toggleable__label\" for=\"0f395975-4eb6-4fa3-af71-b9dbd3db12de\">PolynomialFeatures</label><div class=\"sk-toggleable__content\"><pre>PolynomialFeatures(include_bias=False, interaction_only=True)</pre></div></div></div></div></div></div></div></div><div class=\"sk-parallel-item\"><div class=\"sk-item\"><div class=\"sk-label-container\"><div class=\"sk-label sk-toggleable\"><input class=\"sk-toggleable__control sk-hidden--visually\" id=\"7918125c-ca68-487b-8ae3-90693748e369\" type=\"checkbox\" ><label class=\"sk-toggleable__label\" for=\"7918125c-ca68-487b-8ae3-90693748e369\">dummy_zoning</label><div class=\"sk-toggleable__content\"><pre>['MSZoning']</pre></div></div></div><div class=\"sk-serial\"><div class=\"sk-item\"><div class=\"sk-estimator sk-toggleable\"><input class=\"sk-toggleable__control sk-hidden--visually\" id=\"de3a5a73-20d4-42db-ab78-3041485030ff\" type=\"checkbox\" ><label class=\"sk-toggleable__label\" for=\"de3a5a73-20d4-42db-ab78-3041485030ff\">OneHotEncoder</label><div class=\"sk-toggleable__content\"><pre>OneHotEncoder(drop='first')</pre></div></div></div></div></div></div><div class=\"sk-parallel-item\"><div class=\"sk-item\"><div class=\"sk-label-container\"><div class=\"sk-label sk-toggleable\"><input class=\"sk-toggleable__control sk-hidden--visually\" id=\"9735ed76-7462-48c2-81b1-dd62591e2c57\" type=\"checkbox\" ><label class=\"sk-toggleable__label\" for=\"9735ed76-7462-48c2-81b1-dd62591e2c57\">pool</label><div class=\"sk-toggleable__content\"><pre>['PoolArea']</pre></div></div></div><div class=\"sk-serial\"><div class=\"sk-item\"><div class=\"sk-estimator sk-toggleable\"><input class=\"sk-toggleable__control sk-hidden--visually\" id=\"20342201-723d-4d5f-9a5f-2ab5cf9192c7\" type=\"checkbox\" ><label class=\"sk-toggleable__label\" for=\"20342201-723d-4d5f-9a5f-2ab5cf9192c7\">passthrough</label><div class=\"sk-toggleable__content\"><pre>passthrough</pre></div></div></div></div></div></div></div></div></div></div>"
      ],
      "text/plain": [
       "ColumnTransformer(transformers=[('interacoes',\n",
       "                                 Pipeline(steps=[('centralizador',\n",
       "                                                  ScaleTransformer(method='standardize')),\n",
       "                                                 ('interacoes',\n",
       "                                                  PolynomialFeatures(include_bias=False,\n",
       "                                                                     interaction_only=True))]),\n",
       "                                 ['LotArea', 'OverallQual']),\n",
       "                                ('dummy_zoning', OneHotEncoder(drop='first'),\n",
       "                                 ['MSZoning']),\n",
       "                                ('pool', 'passthrough', ['PoolArea'])])"
      ]
     },
     "execution_count": 41,
     "metadata": {},
     "output_type": "execute_result"
    }
   ],
   "source": [
    "pipeline1"
   ]
  },
  {
   "cell_type": "markdown",
   "metadata": {},
   "source": [
    "Por fim, inlcuimos a regressão linear no nosso pipeline depois das transformações feitas em cada variável."
   ]
  },
  {
   "cell_type": "code",
   "execution_count": 42,
   "metadata": {},
   "outputs": [],
   "source": [
    "from sklearn.linear_model import LinearRegression\n",
    "\n",
    "modelo = Pipeline([('transformacoes', pipeline1), ('modelo_linear', LinearRegression())])"
   ]
  },
  {
   "cell_type": "markdown",
   "metadata": {},
   "source": [
    "Fit e representação visual final do pipeline:"
   ]
  },
  {
   "cell_type": "code",
   "execution_count": 43,
   "metadata": {},
   "outputs": [
    {
     "data": {
      "text/html": [
       "<style>div.sk-top-container {color: black;background-color: white;}div.sk-toggleable {background-color: white;}label.sk-toggleable__label {cursor: pointer;display: block;width: 100%;margin-bottom: 0;padding: 0.2em 0.3em;box-sizing: border-box;text-align: center;}div.sk-toggleable__content {max-height: 0;max-width: 0;overflow: hidden;text-align: left;background-color: #f0f8ff;}div.sk-toggleable__content pre {margin: 0.2em;color: black;border-radius: 0.25em;background-color: #f0f8ff;}input.sk-toggleable__control:checked~div.sk-toggleable__content {max-height: 200px;max-width: 100%;overflow: auto;}div.sk-estimator input.sk-toggleable__control:checked~label.sk-toggleable__label {background-color: #d4ebff;}div.sk-label input.sk-toggleable__control:checked~label.sk-toggleable__label {background-color: #d4ebff;}input.sk-hidden--visually {border: 0;clip: rect(1px 1px 1px 1px);clip: rect(1px, 1px, 1px, 1px);height: 1px;margin: -1px;overflow: hidden;padding: 0;position: absolute;width: 1px;}div.sk-estimator {font-family: monospace;background-color: #f0f8ff;margin: 0.25em 0.25em;border: 1px dotted black;border-radius: 0.25em;box-sizing: border-box;}div.sk-estimator:hover {background-color: #d4ebff;}div.sk-parallel-item::after {content: \"\";width: 100%;border-bottom: 1px solid gray;flex-grow: 1;}div.sk-label:hover label.sk-toggleable__label {background-color: #d4ebff;}div.sk-serial::before {content: \"\";position: absolute;border-left: 1px solid gray;box-sizing: border-box;top: 2em;bottom: 0;left: 50%;}div.sk-serial {display: flex;flex-direction: column;align-items: center;background-color: white;}div.sk-item {z-index: 1;}div.sk-parallel {display: flex;align-items: stretch;justify-content: center;background-color: white;}div.sk-parallel-item {display: flex;flex-direction: column;position: relative;background-color: white;}div.sk-parallel-item:first-child::after {align-self: flex-end;width: 50%;}div.sk-parallel-item:last-child::after {align-self: flex-start;width: 50%;}div.sk-parallel-item:only-child::after {width: 0;}div.sk-dashed-wrapped {border: 1px dashed gray;margin: 0.2em;box-sizing: border-box;padding-bottom: 0.1em;background-color: white;position: relative;}div.sk-label label {font-family: monospace;font-weight: bold;background-color: white;display: inline-block;line-height: 1.2em;}div.sk-label-container {position: relative;z-index: 2;text-align: center;}div.sk-container {display: inline-block;position: relative;}</style><div class=\"sk-top-container\"><div class=\"sk-container\"><div class=\"sk-item sk-dashed-wrapped\"><div class=\"sk-label-container\"><div class=\"sk-label sk-toggleable\"><input class=\"sk-toggleable__control sk-hidden--visually\" id=\"f63b4001-3cb4-4197-81fa-712f226e5b2f\" type=\"checkbox\" ><label class=\"sk-toggleable__label\" for=\"f63b4001-3cb4-4197-81fa-712f226e5b2f\">Pipeline</label><div class=\"sk-toggleable__content\"><pre>Pipeline(steps=[('transformacoes',\n",
       "                 ColumnTransformer(transformers=[('interacoes',\n",
       "                                                  Pipeline(steps=[('centralizador',\n",
       "                                                                   ScaleTransformer(method='standardize')),\n",
       "                                                                  ('interacoes',\n",
       "                                                                   PolynomialFeatures(include_bias=False,\n",
       "                                                                                      interaction_only=True))]),\n",
       "                                                  ['LotArea', 'OverallQual']),\n",
       "                                                 ('dummy_zoning',\n",
       "                                                  OneHotEncoder(drop='first'),\n",
       "                                                  ['MSZoning']),\n",
       "                                                 ('pool', 'passthrough',\n",
       "                                                  ['PoolArea'])])),\n",
       "                ('modelo_linear', LinearRegression())])</pre></div></div></div><div class=\"sk-serial\"><div class=\"sk-item sk-dashed-wrapped\"><div class=\"sk-label-container\"><div class=\"sk-label sk-toggleable\"><input class=\"sk-toggleable__control sk-hidden--visually\" id=\"f5dc5444-90c1-4367-94f6-7f6b93ec05b1\" type=\"checkbox\" ><label class=\"sk-toggleable__label\" for=\"f5dc5444-90c1-4367-94f6-7f6b93ec05b1\">transformacoes: ColumnTransformer</label><div class=\"sk-toggleable__content\"><pre>ColumnTransformer(transformers=[('interacoes',\n",
       "                                 Pipeline(steps=[('centralizador',\n",
       "                                                  ScaleTransformer(method='standardize')),\n",
       "                                                 ('interacoes',\n",
       "                                                  PolynomialFeatures(include_bias=False,\n",
       "                                                                     interaction_only=True))]),\n",
       "                                 ['LotArea', 'OverallQual']),\n",
       "                                ('dummy_zoning', OneHotEncoder(drop='first'),\n",
       "                                 ['MSZoning']),\n",
       "                                ('pool', 'passthrough', ['PoolArea'])])</pre></div></div></div><div class=\"sk-parallel\"><div class=\"sk-parallel-item\"><div class=\"sk-item\"><div class=\"sk-label-container\"><div class=\"sk-label sk-toggleable\"><input class=\"sk-toggleable__control sk-hidden--visually\" id=\"eb34f301-0ce7-49f7-9aec-6e875b4d5fd3\" type=\"checkbox\" ><label class=\"sk-toggleable__label\" for=\"eb34f301-0ce7-49f7-9aec-6e875b4d5fd3\">interacoes</label><div class=\"sk-toggleable__content\"><pre>['LotArea', 'OverallQual']</pre></div></div></div><div class=\"sk-serial\"><div class=\"sk-item\"><div class=\"sk-serial\"><div class=\"sk-item\"><div class=\"sk-estimator sk-toggleable\"><input class=\"sk-toggleable__control sk-hidden--visually\" id=\"150e2dbd-6a48-4ed8-bc59-dd3e237cf16c\" type=\"checkbox\" ><label class=\"sk-toggleable__label\" for=\"150e2dbd-6a48-4ed8-bc59-dd3e237cf16c\">ScaleTransformer</label><div class=\"sk-toggleable__content\"><pre>ScaleTransformer(method='standardize')</pre></div></div></div><div class=\"sk-item\"><div class=\"sk-estimator sk-toggleable\"><input class=\"sk-toggleable__control sk-hidden--visually\" id=\"ed755911-17a8-44c9-85c9-582a7f5d68db\" type=\"checkbox\" ><label class=\"sk-toggleable__label\" for=\"ed755911-17a8-44c9-85c9-582a7f5d68db\">PolynomialFeatures</label><div class=\"sk-toggleable__content\"><pre>PolynomialFeatures(include_bias=False, interaction_only=True)</pre></div></div></div></div></div></div></div></div><div class=\"sk-parallel-item\"><div class=\"sk-item\"><div class=\"sk-label-container\"><div class=\"sk-label sk-toggleable\"><input class=\"sk-toggleable__control sk-hidden--visually\" id=\"124074b9-5e55-4371-8253-04e213839e12\" type=\"checkbox\" ><label class=\"sk-toggleable__label\" for=\"124074b9-5e55-4371-8253-04e213839e12\">dummy_zoning</label><div class=\"sk-toggleable__content\"><pre>['MSZoning']</pre></div></div></div><div class=\"sk-serial\"><div class=\"sk-item\"><div class=\"sk-estimator sk-toggleable\"><input class=\"sk-toggleable__control sk-hidden--visually\" id=\"d421e95c-8023-4bb4-a474-fd6950324ec3\" type=\"checkbox\" ><label class=\"sk-toggleable__label\" for=\"d421e95c-8023-4bb4-a474-fd6950324ec3\">OneHotEncoder</label><div class=\"sk-toggleable__content\"><pre>OneHotEncoder(drop='first')</pre></div></div></div></div></div></div><div class=\"sk-parallel-item\"><div class=\"sk-item\"><div class=\"sk-label-container\"><div class=\"sk-label sk-toggleable\"><input class=\"sk-toggleable__control sk-hidden--visually\" id=\"407e25bf-4918-40ff-bc2a-158bdb4104d2\" type=\"checkbox\" ><label class=\"sk-toggleable__label\" for=\"407e25bf-4918-40ff-bc2a-158bdb4104d2\">pool</label><div class=\"sk-toggleable__content\"><pre>['PoolArea']</pre></div></div></div><div class=\"sk-serial\"><div class=\"sk-item\"><div class=\"sk-estimator sk-toggleable\"><input class=\"sk-toggleable__control sk-hidden--visually\" id=\"694f5821-f831-4896-973b-25006a5dc7c9\" type=\"checkbox\" ><label class=\"sk-toggleable__label\" for=\"694f5821-f831-4896-973b-25006a5dc7c9\">passthrough</label><div class=\"sk-toggleable__content\"><pre>passthrough</pre></div></div></div></div></div></div></div></div><div class=\"sk-item\"><div class=\"sk-estimator sk-toggleable\"><input class=\"sk-toggleable__control sk-hidden--visually\" id=\"ea34b48a-1382-41e5-be03-b219e8246c17\" type=\"checkbox\" ><label class=\"sk-toggleable__label\" for=\"ea34b48a-1382-41e5-be03-b219e8246c17\">LinearRegression</label><div class=\"sk-toggleable__content\"><pre>LinearRegression()</pre></div></div></div></div></div></div></div>"
      ],
      "text/plain": [
       "Pipeline(steps=[('transformacoes',\n",
       "                 ColumnTransformer(transformers=[('interacoes',\n",
       "                                                  Pipeline(steps=[('centralizador',\n",
       "                                                                   ScaleTransformer(method='standardize')),\n",
       "                                                                  ('interacoes',\n",
       "                                                                   PolynomialFeatures(include_bias=False,\n",
       "                                                                                      interaction_only=True))]),\n",
       "                                                  ['LotArea', 'OverallQual']),\n",
       "                                                 ('dummy_zoning',\n",
       "                                                  OneHotEncoder(drop='first'),\n",
       "                                                  ['MSZoning']),\n",
       "                                                 ('pool', 'passthrough',\n",
       "                                                  ['PoolArea'])])),\n",
       "                ('modelo_linear', LinearRegression())])"
      ]
     },
     "execution_count": 43,
     "metadata": {},
     "output_type": "execute_result"
    }
   ],
   "source": [
    "modelo.fit(Xtr,y)"
   ]
  },
  {
   "cell_type": "markdown",
   "metadata": {},
   "source": [
    "Coeficientes da regressão linear para cada varíavel:"
   ]
  },
  {
   "cell_type": "code",
   "execution_count": 44,
   "metadata": {},
   "outputs": [
    {
     "data": {
      "text/plain": [
       "array([ 1.16327652e+04,  5.93790554e+04,  4.57863576e+03,  2.55330893e+03,\n",
       "        9.49579863e+02,  1.55003347e+04, -1.20825605e+04,  3.82612215e+01])"
      ]
     },
     "execution_count": 44,
     "metadata": {},
     "output_type": "execute_result"
    }
   ],
   "source": [
    "modelo.steps[1][1].coef_"
   ]
  },
  {
   "cell_type": "markdown",
   "metadata": {},
   "source": [
    "Vamos aplicar a validação cruzada para o erro quadrático médio negativo, de forma a descobrir qual foi o erro das nossas previsões."
   ]
  },
  {
   "cell_type": "code",
   "execution_count": 45,
   "metadata": {},
   "outputs": [
    {
     "data": {
      "text/plain": [
       "46187.0"
      ]
     },
     "execution_count": 45,
     "metadata": {},
     "output_type": "execute_result"
    }
   ],
   "source": [
    "from sklearn.model_selection import cross_val_score\n",
    "import numpy as np\n",
    "\n",
    "\n",
    "np.sqrt(-cross_val_score(modelo,Xtr,y,cv=10,scoring='neg_mean_squared_error').mean()).round(0)"
   ]
  },
  {
   "cell_type": "markdown",
   "metadata": {},
   "source": [
    "Portanto, o erro médio do modelo em que aplicamos as transformações é de 46187 dólares."
   ]
  },
  {
   "cell_type": "code",
   "execution_count": 46,
   "metadata": {},
   "outputs": [],
   "source": [
    "pipeline2 = ColumnTransformer([\n",
    "    ('interacoes', 'passthrough', ['LotArea','OverallQual']),\n",
    "    ('dummy_zoning', OneHotEncoder(drop='first'), ['MSZoning']),\n",
    "    ('pool','passthrough', ['PoolArea'])\n",
    "], \n",
    "remainder = 'drop'\n",
    ")\n",
    "\n",
    "modelo2 = Pipeline([('transformacoes', pipeline2), ('modelo_linear', LinearRegression())])"
   ]
  },
  {
   "cell_type": "code",
   "execution_count": 47,
   "metadata": {},
   "outputs": [
    {
     "data": {
      "text/plain": [
       "46031.0"
      ]
     },
     "execution_count": 47,
     "metadata": {},
     "output_type": "execute_result"
    }
   ],
   "source": [
    "np.sqrt(-cross_val_score(modelo2,Xtr,y,cv=10,scoring='neg_mean_squared_error').mean()).round(0)"
   ]
  },
  {
   "cell_type": "markdown",
   "metadata": {},
   "source": [
    "Já o erro médio do modelo em que não aplicamos nenhuma transformação no pipeline, exceto o OneHotEncoder, é de 46031 dólares e portanto menor. Nesse caso então as transformações definidas no primeiro pipeline, que incluem a transformação de escala e interações polinomiais, geraram apenas um erro maior nesse modelo específico."
   ]
  },
  {
   "cell_type": "code",
   "execution_count": 50,
   "metadata": {},
   "outputs": [
    {
     "data": {
      "text/plain": [
       "0.6651431874099518"
      ]
     },
     "execution_count": 50,
     "metadata": {},
     "output_type": "execute_result"
    }
   ],
   "source": [
    "cross_val_score(modelo, Xtr, y, cv=10, scoring = 'r2').mean()"
   ]
  },
  {
   "cell_type": "code",
   "execution_count": 51,
   "metadata": {},
   "outputs": [
    {
     "data": {
      "text/plain": [
       "0.6656837187462855"
      ]
     },
     "execution_count": 51,
     "metadata": {},
     "output_type": "execute_result"
    }
   ],
   "source": [
    "cross_val_score(modelo2, Xtr, y, cv=10, scoring = 'r2').mean()"
   ]
  },
  {
   "cell_type": "markdown",
   "metadata": {},
   "source": [
    "Porém, quando verificamos o r² vemos que os dois modelos são virtualmente iguais."
   ]
  }
 ],
 "metadata": {
  "interpreter": {
   "hash": "66d7c0815ee3ec39f8a25542b36e8def4dce34ad6588e623c666e441b334d01c"
  },
  "kernelspec": {
   "display_name": "Python 3.8.8 64-bit ('base': conda)",
   "language": "python",
   "name": "python3"
  },
  "language_info": {
   "codemirror_mode": {
    "name": "ipython",
    "version": 3
   },
   "file_extension": ".py",
   "mimetype": "text/x-python",
   "name": "python",
   "nbconvert_exporter": "python",
   "pygments_lexer": "ipython3",
   "version": "3.8.8"
  },
  "orig_nbformat": 4
 },
 "nbformat": 4,
 "nbformat_minor": 2
}
